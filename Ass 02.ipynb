{
 "cells": [
  {
   "cell_type": "markdown",
   "id": "0f3c295b",
   "metadata": {},
   "source": [
    "# Question 1\n",
    "Given an integer array nums of 2n integers, group these integers into n pairs (a1, b1), (a2, b2),..., (an, bn) such that the sum of min(ai, bi) for all i is maximized. Return the maximized sum.\n",
    "\n",
    "Example 1:\n",
    "Input: nums = [1,4,3,2]\n",
    "Output: 4\n",
    "\n",
    "Explanation: All possible pairings (ignoring the ordering of elements) are:\n",
    "\n",
    "1. (1, 4), (2, 3) -> min(1, 4) + min(2, 3) = 1 + 2 = 3\n",
    "2. (1, 3), (2, 4) -> min(1, 3) + min(2, 4) = 1 + 2 = 3\n",
    "3. (1, 2), (3, 4) -> min(1, 2) + min(3, 4) = 1 + 3 = 4\n",
    "So the maximum possible sum is 4\n"
   ]
  },
  {
   "cell_type": "code",
   "execution_count": 1,
   "id": "7c09363b-e898-4c76-9b62-c33c75e1ca85",
   "metadata": {},
   "outputs": [
    {
     "name": "stdout",
     "output_type": "stream",
     "text": [
      "4\n"
     ]
    }
   ],
   "source": [
    "class Solution(object):\n",
    "    def arrayPairSum(self, nums):\n",
    "        \n",
    "        nums.sort()\n",
    "        result = 0\n",
    "        numsLen = len(nums)\n",
    "        for i in range(0, numsLen - 1, 2):\n",
    "            result += nums[i]\n",
    "        return result\n",
    "\n",
    "nums = [1,4,3,2]\n",
    "obj = Solution()\n",
    "print(obj.arrayPairSum(nums))\n"
   ]
  },
  {
   "cell_type": "markdown",
   "id": "b7905234",
   "metadata": {},
   "source": [
    "# Question 2\n",
    "Alice has n candies, where the ith candy is of type candyType[i]. Alice noticed that she started to gain weight, so she visited a doctor. \n",
    "\n",
    "The doctor advised Alice to only eat n / 2 of the candies she has (n is always even). Alice likes her candies very much, and she wants to eat the maximum number of different types of candies while still following the doctor's advice. \n",
    "\n",
    "Given the integer array candyType of length n, return the maximum number of different types of candies she can eat if she only eats n / 2 of them.\n",
    "\n",
    "Example 1:\n",
    "Input: candyType = [1,1,2,2,3,3]\n",
    "Output: 3\n",
    "\n",
    "Explanation: Alice can only eat 6 / 2 = 3 candies. Since there are only 3 types, she can eat one of each type."
   ]
  },
  {
   "cell_type": "code",
   "execution_count": 3,
   "id": "d272625a-b9ab-4f2b-a6aa-4dc9ea8fdd07",
   "metadata": {},
   "outputs": [
    {
     "name": "stdout",
     "output_type": "stream",
     "text": [
      "3\n"
     ]
    }
   ],
   "source": [
    "class Solution:\n",
    "    def distributeCandies(self, candyType: list[int]) -> int:\n",
    "        l = len(candyType)\n",
    "        eat = l//2\n",
    "        dis_candyType = set(candyType)\n",
    "\n",
    "        if eat <= len(dis_candyType):\n",
    "            return eat\n",
    "\n",
    "        elif eat > len(dis_candyType):\n",
    "            return len(dis_candyType) \n",
    "\n",
    "candyType = [1,1,2,2,3,3]\n",
    "obj = Solution()\n",
    "print(obj.distributeCandies(candyType))\n"
   ]
  },
  {
   "cell_type": "markdown",
   "id": "c033f8a9",
   "metadata": {},
   "source": [
    "\n",
    "# Question 3\n",
    "We define a harmonious array as an array where the difference between its maximum value\n",
    "and its minimum value is exactly 1.\n",
    "\n",
    "Given an integer array nums, return the length of its longest harmonious subsequence\n",
    "among all its possible subsequences.\n",
    "\n",
    "A subsequence of an array is a sequence that can be derived from the array by deleting some or no elements without changing the order of the remaining elements.\n",
    "\n",
    "Example 1:\n",
    "Input: nums = [1,3,2,2,5,2,3,7]\n",
    "Output: 5\n",
    "\n",
    "Explanation: The longest harmonious subsequence is [3,2,2,2,3]."
   ]
  },
  {
   "cell_type": "code",
   "execution_count": 7,
   "id": "e96ca907-016a-4dff-b323-7cf4852b4453",
   "metadata": {},
   "outputs": [
    {
     "name": "stdout",
     "output_type": "stream",
     "text": [
      "5\n"
     ]
    }
   ],
   "source": [
    "class Solution:\n",
    "    def findLHS(self, nums: list[int]) -> int:\n",
    "        letter = {}\n",
    "        ans = 0\n",
    "        for i in nums:\n",
    "            if i not in letter:\n",
    "                letter[i] = 1\n",
    "            else:\n",
    "                letter[i]+=1\n",
    "        for i in letter:\n",
    "            if i+1 in letter.keys():\n",
    "                ans = max(ans, letter[i]+letter[i+1])\n",
    "        return ans\n",
    "\n",
    "nums = [1,3,2,2,5,2,3,7]\n",
    "obj = Solution()\n",
    "print(obj.findLHS(nums))\n",
    "        "
   ]
  },
  {
   "cell_type": "markdown",
   "id": "7a69d50b",
   "metadata": {},
   "source": [
    "# Question 4\n",
    "You have a long flowerbed in which some of the plots are planted, and some are not.\n",
    "However, flowers cannot be planted in adjacent plots.\n",
    "Given an integer array flowerbed containing 0's and 1's, where 0 means empty and 1 means not empty, and an integer n, return true if n new flowers can be planted in the flowerbed without violating the no-adjacent-flowers rule and false otherwise.\n",
    "\n",
    "Example 1:\n",
    "Input: flowerbed = [1,0,0,0,1], n = 1\n",
    "Output: true"
   ]
  },
  {
   "cell_type": "code",
   "execution_count": 10,
   "id": "a0abb0bf-b663-4ea5-a52a-98e0c965ca95",
   "metadata": {},
   "outputs": [
    {
     "name": "stdout",
     "output_type": "stream",
     "text": [
      "True\n"
     ]
    }
   ],
   "source": [
    "class Solution:\n",
    "    def canPlaceFlowers(self, flowerbed: list[int], n: int) -> bool:\n",
    "        flowerbed = [0] + flowerbed + [0]\n",
    "        for i in range(1, len(flowerbed) - 1):\n",
    "            if sum(flowerbed[i - 1 : i + 2]) == 0:\n",
    "                flowerbed[i] = 1\n",
    "                n -= 1\n",
    "        return n <= 0\n",
    "    \n",
    "flowerbed = [1,0,0,0,1] \n",
    "n = 1\n",
    "obj = Solution()\n",
    "print(obj.canPlaceFlowers(flowerbed, n))\n"
   ]
  },
  {
   "cell_type": "markdown",
   "id": "ae24296d",
   "metadata": {},
   "source": [
    "# Question 5\n",
    "Given an integer array nums, find three numbers whose product is maximum and return the maximum product.\n",
    "\n",
    "Example 1:\n",
    "Input: nums = [1,2,3]\n",
    "Output: 6"
   ]
  },
  {
   "cell_type": "code",
   "execution_count": 12,
   "id": "8c0cba7c-e672-47cb-9af1-184d8ce1a745",
   "metadata": {},
   "outputs": [
    {
     "name": "stdout",
     "output_type": "stream",
     "text": [
      "6\n"
     ]
    }
   ],
   "source": [
    "class Solution:\n",
    "    def maximumProduct(self, nums: list[int]) -> int:\n",
    "        nums.sort()\n",
    "        a = nums[-1] * nums[-2] * nums[-3]\n",
    "        b = nums[-1] * nums[0] * nums[1]\n",
    "        return max(a, b)\n",
    "nums = [1,2,3]\n",
    "obj = Solution()\n",
    "print(obj.maximumProduct(nums))"
   ]
  },
  {
   "cell_type": "markdown",
   "id": "f65625a7",
   "metadata": {},
   "source": [
    "# Question 6\n",
    "Given an array of integers nums which is sorted in ascending order, and an integer target,\n",
    "write a function to search target in nums. If target exists, then return its index. Otherwise,\n",
    "return -1.\n",
    "\n",
    "You must write an algorithm with O(log n) runtime complexity.\n",
    "\n",
    "Input: nums = [-1,0,3,5,9,12], target = 9\n",
    "Output: 4\n",
    "\n",
    "Explanation: 9 exists in nums and its index is 4"
   ]
  },
  {
   "cell_type": "code",
   "execution_count": 7,
   "id": "d017b3a7-e96c-4e0b-9700-d7732750abc0",
   "metadata": {},
   "outputs": [
    {
     "name": "stdout",
     "output_type": "stream",
     "text": [
      "4\n"
     ]
    }
   ],
   "source": [
    "class Solution:\n",
    "    def search(self, nums: list[int], target: int) -> int:\n",
    "        left, right = 0, len(nums) - 1\n",
    "        while left < right:\n",
    "            \n",
    "            mid = left + (right - left) // 2\n",
    "            if nums[mid] == target:\n",
    "                return mid\n",
    "            elif nums[mid] < target:\n",
    "                left = mid + 1\n",
    "            else:\n",
    "                right = mid - 1\n",
    "        return -1\n",
    "    \n",
    "nums = [-1,0,3,5,9,12]\n",
    "target = 9\n",
    "obj = Solution()\n",
    "print(obj.search(nums, target))\n"
   ]
  },
  {
   "cell_type": "markdown",
   "id": "d7ccefa9",
   "metadata": {},
   "source": [
    "# Question 7\n",
    "An array is monotonic if it is either monotone increasing or monotone decreasing.\n",
    "\n",
    "An array nums is monotone increasing if for all i <= j, nums[i] <= nums[j]. An array nums is\n",
    "monotone decreasing if for all i <= j, nums[i] >= nums[j].\n",
    "\n",
    "Given an integer array nums, return true if the given array is monotonic, or false otherwise.\n",
    "\n",
    "Example 1:\n",
    "Input: nums = [1,2,2,3]\n",
    "Output: true"
   ]
  },
  {
   "cell_type": "code",
   "execution_count": 4,
   "id": "b938176c-0b0e-47e6-b661-528aaa52e802",
   "metadata": {},
   "outputs": [
    {
     "name": "stdout",
     "output_type": "stream",
     "text": [
      "True\n"
     ]
    }
   ],
   "source": [
    "class Solution:\n",
    "  def isMonotonic(self, nums: list[int]) -> bool:\n",
    "    increasing = True\n",
    "    decreasing = True\n",
    "\n",
    "    for i in range(1, len(nums)):\n",
    "      increasing &= nums[i - 1] <= nums[i]\n",
    "      decreasing &= nums[i - 1] >= nums[i]\n",
    "\n",
    "    return increasing or decreasing\n",
    "\n",
    "nums = [1,2,2,3]\n",
    "obj = Solution()\n",
    "print(obj.isMonotonic(nums))"
   ]
  },
  {
   "cell_type": "markdown",
   "id": "caf2dfc3",
   "metadata": {},
   "source": [
    "# Question 8\n",
    "You are given an integer array nums and an integer k.\n",
    "\n",
    "In one operation, you can choose any index i where 0 <= i < nums.length and change nums[i] to nums[i] + x where x is an integer from the range [-k, k]. You can apply this operation at most once for each index i.\n",
    "\n",
    "The score of nums is the difference between the maximum and minimum elements in nums.\n",
    "\n",
    "Return the minimum score of nums after applying the mentioned operation at most once for each index in it.\n",
    "\n",
    "Example 1:\n",
    "Input: nums = [1], k = 0\n",
    "Output: 0\n",
    "\n",
    "Explanation: The score is max(nums) - min(nums) = 1 - 1 = 0."
   ]
  },
  {
   "cell_type": "code",
   "execution_count": 6,
   "id": "d5b228e9-13b6-4819-97dd-6e6d6babbe7d",
   "metadata": {},
   "outputs": [
    {
     "name": "stdout",
     "output_type": "stream",
     "text": [
      "0\n"
     ]
    }
   ],
   "source": [
    "class Solution:\n",
    "    def Range(self, nums: list[int], k: int) -> int:\n",
    "        mx, mi = max(nums), min(nums)\n",
    "        return max(0, mx - mi - k * 2)\n",
    "    \n",
    "nums = [1] \n",
    "k = 0\n",
    "obj = Solution()\n",
    "print(obj.Range(nums, k))\n"
   ]
  },
  {
   "cell_type": "code",
   "execution_count": null,
   "id": "56b1aae3-07d6-4662-940d-d41cd7e449e9",
   "metadata": {},
   "outputs": [],
   "source": []
  }
 ],
 "metadata": {
  "kernelspec": {
   "display_name": "Python 3 (ipykernel)",
   "language": "python",
   "name": "python3"
  },
  "language_info": {
   "codemirror_mode": {
    "name": "ipython",
    "version": 3
   },
   "file_extension": ".py",
   "mimetype": "text/x-python",
   "name": "python",
   "nbconvert_exporter": "python",
   "pygments_lexer": "ipython3",
   "version": "3.9.13"
  }
 },
 "nbformat": 4,
 "nbformat_minor": 5
}
