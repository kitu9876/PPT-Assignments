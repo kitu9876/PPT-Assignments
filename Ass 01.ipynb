{
 "cells": [
  {
   "cell_type": "markdown",
   "id": "10813865",
   "metadata": {},
   "source": [
    "# <aside>\n",
    "💡 **Q1.** Given an array of integers nums and an integer target, return indices of the two numbers such that they add up to target.\n",
    "\n",
    "You may assume that each input would have exactly one solution, and you may not use the same element twice.\n",
    "\n",
    "You can return the answer in any order.\n",
    "\n",
    "**Example:**\n",
    "Input: nums = [2,7,11,15], target = 9\n",
    "Output0 [0,1]\n",
    "\n",
    "**Explanation:** Because nums[0] + nums[1] == 9, we return [0, 1][\n",
    "\n",
    "</aside>"
   ]
  },
  {
   "cell_type": "code",
   "execution_count": 6,
   "id": "657dbeb9",
   "metadata": {},
   "outputs": [
    {
     "data": {
      "text/plain": [
       "(0, 2)"
      ]
     },
     "execution_count": 6,
     "metadata": {},
     "output_type": "execute_result"
    }
   ],
   "source": [
    "class solution:\n",
    "    def fun1(self,l,t):\n",
    "        for i in range(len(l)):\n",
    "            if(l[i]!=t):\n",
    "                for j in range(len(l)):\n",
    "                    if l[i]+l[j]==t:\n",
    "                        return i,j\n",
    "            else:\n",
    "                for j in range(len(l)):\n",
    "                    if l[i+1]+l[j]==t:\n",
    "                        return i,j\n",
    "\n",
    "nums= [2,3,4,5,6]  \n",
    "target=6\n",
    "obj=solution()\n",
    "obj.fun1(nums, target)\n",
    "#O/p:(0, 2)\n",
    "            "
   ]
  },
  {
   "cell_type": "markdown",
   "id": "dfd5630d",
   "metadata": {},
   "source": [
    "# <aside>\n",
    "💡 **Q2.** Given an integer array nums and an integer val, remove all occurrences of val in nums in-place. The order of the elements may be changed. Then return the number of elements in nums which are not equal to val.\n",
    "\n",
    "Consider the number of elements in nums which are not equal to val be k, to get accepted, you need to do the following things:\n",
    "\n",
    "- Change the array nums such that the first k elements of nums contain the elements which are not equal to val. The remaining elements of nums are not important as well as the size of nums.\n",
    "- Return k.\n",
    "\n",
    "**Example :**\n",
    "Input: nums = [3,2,2,3], val = 3\n",
    "Output: 2, nums = [2,2,_*,_*]\n",
    "\n",
    "**Explanation:** Your function should return k = 2, with the first two elements of nums being 2. It does not matter what you leave beyond the returned k (hence they are underscores)[\n",
    "\n",
    "</aside>"
   ]
  },
  {
   "cell_type": "code",
   "execution_count": 12,
   "id": "c45f3360",
   "metadata": {},
   "outputs": [
    {
     "data": {
      "text/plain": [
       "(8, [3, 4, 2, 2, 0, 0, 5, 4, 0, 0])"
      ]
     },
     "execution_count": 12,
     "metadata": {},
     "output_type": "execute_result"
    }
   ],
   "source": [
    "class solution:\n",
    "    def fun2(self,l,v):\n",
    "        count=0\n",
    "        for i in range(len(l)):\n",
    "            if l[i]==v:\n",
    "                count+=1\n",
    "                l.pop(i)\n",
    "                l.append(0)\n",
    "        return len(l)-count , l\n",
    "\n",
    "    \n",
    "nums=[3,4,2,2,6,0,0,5,6,4]\n",
    "val=6\n",
    "obj=solution()\n",
    "obj.fun2(nums,val)\n"
   ]
  },
  {
   "cell_type": "markdown",
   "id": "53bb252c",
   "metadata": {},
   "source": [
    "# <aside>\n",
    "💡 **Q3.** Given a sorted array of distinct integers and a target value, return the index if the target is found. If not, return the index where it would be if it were inserted in order.\n",
    "\n",
    "You must write an algorithm with O(log n) runtime complexity.\n",
    "\n",
    "**Example 1:**\n",
    "Input: nums = [1,3,5,6], target = 5\n",
    "\n",
    "Output: 2\n",
    "\n",
    "</aside>"
   ]
  },
  {
   "cell_type": "code",
   "execution_count": null,
   "id": "8369c1b6",
   "metadata": {},
   "outputs": [],
   "source": [
    "class solution:   \n",
    "    def bs(self,nums : list[int] ,target : int) -> int:\n",
    "        s=0\n",
    "        e= len(l)-1\n",
    "        \n",
    "        while(s<=e):\n",
    "            m=(s+e)//2\n",
    "\n",
    "            if(l[m]==tgt):\n",
    "                return m\n",
    "            elif(tgt <  m):\n",
    "                e = m-1\n",
    "            elif(tgt >m):\n",
    "                s = m+1\n",
    "\n",
    "        return e+1\n",
    "    \n",
    "\n",
    "nums = [2,3,4,5,7,8,9]\n",
    "target = 4\n",
    "obj = solution()\n",
    "obj.bs(nums,target)\n",
    "#O/P: 2\n",
    "        "
   ]
  },
  {
   "cell_type": "markdown",
   "id": "aa37837d",
   "metadata": {},
   "source": [
    "# <aside>\n",
    "💡 **Q4.** You are given a large integer represented as an integer array digits, where each digits[i] is the ith digit of the integer. The digits are ordered from most significant to least significant in left-to-right order. The large integer does not contain any leading 0's.\n",
    "\n",
    "Increment the large integer by one and return the resulting array of digits.\n",
    "\n",
    "**Example 1:**\n",
    "Input: digits = [1,2,3]\n",
    "Output: [1,2,4]\n",
    "\n",
    "**Explanation:** The array represents the integer 123.\n",
    "\n",
    "Incrementing by one gives 123 + 1 = 124.\n",
    "Thus, the result should be [1,2,4].\n",
    "\n",
    "</aside>"
   ]
  },
  {
   "cell_type": "code",
   "execution_count": 42,
   "id": "97155404",
   "metadata": {},
   "outputs": [
    {
     "data": {
      "text/plain": [
       "27081"
      ]
     },
     "execution_count": 42,
     "metadata": {},
     "output_type": "execute_result"
    }
   ],
   "source": [
    "class solution:\n",
    "    def fun4(self,digits):\n",
    "        n=0\n",
    "        for i in range(len(digits)):\n",
    "            n=n*10+digits[i]\n",
    "        return n+1\n",
    "digits=[2,7,0,8,0]  \n",
    "obj=solution()\n",
    "obj.fun4(digits)\n",
    "#O/p:27081\n",
    "  \n",
    "    "
   ]
  },
  {
   "cell_type": "markdown",
   "id": "32f116f3",
   "metadata": {},
   "source": [
    "# <aside>\n",
    "💡 **Q5.** You are given two integer arrays nums1 and nums2, sorted in non-decreasing order, and two integers m and n, representing the number of elements in nums1 and nums2 respectively.\n",
    "\n",
    "Merge nums1 and nums2 into a single array sorted in non-decreasing order.\n",
    "\n",
    "The final sorted array should not be returned by the function, but instead be stored inside the array nums1. To accommodate this, nums1 has a length of m + n, where the first m elements denote the elements that should be merged, and the last n elements are set to 0 and should be ignored. nums2 has a length of n.\n",
    "\n",
    "**Example 1:**\n",
    "Input: nums1 = [1,2,3,0,0,0], m = 3, nums2 = [2,5,6], n = 3\n",
    "Output: [1,2,2,3,5,6]\n",
    "\n",
    "**Explanation:** The arrays we are merging are [1,2,3] and [2,5,6].\n",
    "The result of the merge is [1,2,2,3,5,6] with the underlined elements coming from nums1.\n",
    "\n",
    "</aside>"
   ]
  },
  {
   "cell_type": "code",
   "execution_count": 34,
   "id": "2ffc607c",
   "metadata": {},
   "outputs": [
    {
     "data": {
      "text/plain": [
       "[1, 2, 3, 4, 5, 5, 6, 7, 8, 9]"
      ]
     },
     "execution_count": 34,
     "metadata": {},
     "output_type": "execute_result"
    }
   ],
   "source": [
    "class solution:\n",
    "    def fun5(self,nums1,nums2,m,n):\n",
    "        for i in range(n):\n",
    "            nums1[-(n)]=nums2[i]\n",
    "            n-=1\n",
    "        return nums1\n",
    "  \n",
    "nums1=[1,2,3,4,5,0,0,0,0,0]\n",
    "nums2=[5,6,7,8,9]\n",
    "m=10\n",
    "n=5\n",
    "obj=solution()\n",
    "obj.fun5(nums1,nums2,m,n)\n",
    "#O/p:[1, 2, 3, 4, 5, 5, 6, 7, 8, 9]"
   ]
  },
  {
   "cell_type": "markdown",
   "id": "71b5eda1",
   "metadata": {},
   "source": [
    "# <aside>\n",
    "💡 **Q6.** Given an integer array nums, return true if any value appears at least twice in the array, and return false if every element is distinct.\n",
    "\n",
    "**Example 1:**\n",
    "Input: nums = [1,2,3,1]\n",
    "\n",
    "Output: true\n",
    "\n",
    "</aside>"
   ]
  },
  {
   "cell_type": "code",
   "execution_count": 30,
   "id": "27a41fe3",
   "metadata": {},
   "outputs": [
    {
     "data": {
      "text/plain": [
       "True"
      ]
     },
     "execution_count": 30,
     "metadata": {},
     "output_type": "execute_result"
    }
   ],
   "source": [
    "class solution:\n",
    "    def fun6(self,nums):\n",
    "        count=0\n",
    "        for i in range(len(nums)):\n",
    "            for j in range(i+1,len(nums)):\n",
    "                if nums[i]==nums[j]:\n",
    "                    count+=1\n",
    "        if count >=1:\n",
    "            return True\n",
    "        \n",
    "nums=[4,5,4,7,8,9,88,99,88]\n",
    "\n",
    "obj=solution()\n",
    "obj.fun6(nums)\n",
    "#O/p:True\n",
    "  \n"
   ]
  },
  {
   "cell_type": "markdown",
   "id": "a022584c",
   "metadata": {},
   "source": [
    "# <aside>\n",
    "💡 **Q7.** Given an integer array nums, move all 0's to the end of it while maintaining the relative order of the nonzero elements.\n",
    "\n",
    "Note that you must do this in-place without making a copy of the array.\n",
    "\n",
    "**Example 1:**\n",
    "Input: nums = [0,1,0,3,12]\n",
    "Output: [1,3,12,0,0]\n",
    "\n",
    "</aside>"
   ]
  },
  {
   "cell_type": "code",
   "execution_count": 23,
   "id": "582059fb",
   "metadata": {},
   "outputs": [
    {
     "data": {
      "text/plain": [
       "[6, 7, 0, 8, 66, 78, 65, 0, 0, 0]"
      ]
     },
     "execution_count": 23,
     "metadata": {},
     "output_type": "execute_result"
    }
   ],
   "source": [
    "class solution:\n",
    "    def fun7(self,nums):\n",
    "        count=0\n",
    "        for i in range(len(l)):\n",
    "            if nums[i]==0:\n",
    "                count+=1\n",
    "                nums.pop(i)\n",
    "                nums.append(0)\n",
    "\n",
    "        return nums\n",
    "            \n",
    "nums=[0,6,7,0,0,8,66,78,0,65]        \n",
    "obj=solution()\n",
    "obj.fun7(nums)\n",
    "#O/p:[6, 7, 8, 66, 78, 65, 0, 0, 0, 0]\n",
    "\n",
    "           \n",
    "        "
   ]
  },
  {
   "cell_type": "markdown",
   "id": "a90f7fe1",
   "metadata": {},
   "source": [
    "# <aside>\n",
    "💡 **Q8.** You have a set of integers s, which originally contains all the numbers from 1 to n. Unfortunately, due to some error, one of the numbers in s got duplicated to another number in the set, which results in repetition of one number and loss of another number.\n",
    "\n",
    "You are given an integer array nums representing the data status of this set after the error.\n",
    "\n",
    "Find the number that occurs twice and the number that is missing and return them in the form of an array.\n",
    "\n",
    "**Example 1:**\n",
    "Input: nums = [1,2,2,4]\n",
    "Output: [2,3]\n",
    "\n",
    "</aside>"
   ]
  },
  {
   "cell_type": "code",
   "execution_count": 22,
   "id": "3531d81b",
   "metadata": {},
   "outputs": [
    {
     "data": {
      "text/plain": [
       "[4, 5]"
      ]
     },
     "execution_count": 22,
     "metadata": {},
     "output_type": "execute_result"
    }
   ],
   "source": [
    "class solution:\n",
    "    def fun7(self,l):\n",
    "        for i in range(len(l)):\n",
    "            if l[i]==l[i+1]:\n",
    "                return([l[i],l[i]+1])\n",
    "\n",
    "nums=[1,2,3,4,4,6,7,8,9]\n",
    "\n",
    "obj=solution()\n",
    "obj.fun7(nums)\n",
    "#O/P: [4,5]"
   ]
  },
  {
   "cell_type": "code",
   "execution_count": null,
   "id": "22edc3e9",
   "metadata": {},
   "outputs": [],
   "source": []
  }
 ],
 "metadata": {
  "kernelspec": {
   "display_name": "Python 3 (ipykernel)",
   "language": "python",
   "name": "python3"
  },
  "language_info": {
   "codemirror_mode": {
    "name": "ipython",
    "version": 3
   },
   "file_extension": ".py",
   "mimetype": "text/x-python",
   "name": "python",
   "nbconvert_exporter": "python",
   "pygments_lexer": "ipython3",
   "version": "3.9.13"
  }
 },
 "nbformat": 4,
 "nbformat_minor": 5
}
